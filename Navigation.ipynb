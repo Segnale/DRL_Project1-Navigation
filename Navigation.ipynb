{
 "cells": [
  {
   "cell_type": "markdown",
   "metadata": {},
   "source": [
    "# Navigation\n",
    "\n",
    "---\n",
    "\n",
    "In this notebook, you will learn how to use the Unity ML-Agents environment for the first project of the [Deep Reinforcement Learning Nanodegree](https://www.udacity.com/course/deep-reinforcement-learning-nanodegree--nd893).\n",
    "\n",
    "### 1. Start the Environment\n",
    "\n",
    "We begin by importing some necessary packages.  If the code cell below returns an error, please revisit the project instructions to double-check that you have installed [Unity ML-Agents](https://github.com/Unity-Technologies/ml-agents/blob/master/docs/Installation.md) and [NumPy](http://www.numpy.org/)."
   ]
  },
  {
   "cell_type": "code",
   "execution_count": 1,
   "metadata": {},
   "outputs": [],
   "source": [
    "from unityagents import UnityEnvironment\n",
    "import numpy as np"
   ]
  },
  {
   "cell_type": "markdown",
   "metadata": {},
   "source": [
    "Next, we will start the environment!  **_Before running the code cell below_**, change the `file_name` parameter to match the location of the Unity environment that you downloaded.\n",
    "\n",
    "- **Mac**: `\"path/to/Banana.app\"`\n",
    "- **Windows** (x86): `\"path/to/Banana_Windows_x86/Banana.exe\"`\n",
    "- **Windows** (x86_64): `\"path/to/Banana_Windows_x86_64/Banana.exe\"`\n",
    "- **Linux** (x86): `\"path/to/Banana_Linux/Banana.x86\"`\n",
    "- **Linux** (x86_64): `\"path/to/Banana_Linux/Banana.x86_64\"`\n",
    "- **Linux** (x86, headless): `\"path/to/Banana_Linux_NoVis/Banana.x86\"`\n",
    "- **Linux** (x86_64, headless): `\"path/to/Banana_Linux_NoVis/Banana.x86_64\"`\n",
    "\n",
    "For instance, if you are using a Mac, then you downloaded `Banana.app`.  If this file is in the same folder as the notebook, then the line below should appear as follows:\n",
    "```\n",
    "env = UnityEnvironment(file_name=\"Banana.app\")\n",
    "```"
   ]
  },
  {
   "cell_type": "code",
   "execution_count": 2,
   "metadata": {},
   "outputs": [
    {
     "name": "stderr",
     "output_type": "stream",
     "text": [
      "INFO:unityagents:\n",
      "'Academy' started successfully!\n",
      "Unity Academy name: Academy\n",
      "        Number of Brains: 1\n",
      "        Number of External Brains : 1\n",
      "        Lesson number : 0\n",
      "        Reset Parameters :\n",
      "\t\t\n",
      "Unity brain name: BananaBrain\n",
      "        Number of Visual Observations (per agent): 0\n",
      "        Vector Observation space type: continuous\n",
      "        Vector Observation space size (per agent): 37\n",
      "        Number of stacked Vector Observation: 1\n",
      "        Vector Action space type: discrete\n",
      "        Vector Action space size (per agent): 4\n",
      "        Vector Action descriptions: , , , \n"
     ]
    }
   ],
   "source": [
    "env = UnityEnvironment(file_name=\"Banana_Windows_x86_64/Banana.exe\")"
   ]
  },
  {
   "cell_type": "markdown",
   "metadata": {},
   "source": [
    "Environments contain **_brains_** which are responsible for deciding the actions of their associated agents. Here we check for the first brain available, and set it as the default brain we will be controlling from Python."
   ]
  },
  {
   "cell_type": "code",
   "execution_count": 3,
   "metadata": {},
   "outputs": [],
   "source": [
    "# get the default brain\n",
    "brain_name = env.brain_names[0]\n",
    "brain = env.brains[brain_name]"
   ]
  },
  {
   "cell_type": "markdown",
   "metadata": {},
   "source": [
    "### 2. Examine the State and Action Spaces\n",
    "\n",
    "The simulation contains a single agent that navigates a large environment.  At each time step, it has four actions at its disposal:\n",
    "- `0` - walk forward \n",
    "- `1` - walk backward\n",
    "- `2` - turn left\n",
    "- `3` - turn right\n",
    "\n",
    "The state space has `37` dimensions and contains the agent's velocity, along with ray-based perception of objects around agent's forward direction.  A reward of `+1` is provided for collecting a yellow banana, and a reward of `-1` is provided for collecting a blue banana. \n",
    "\n",
    "Run the code cell below to print some information about the environment."
   ]
  },
  {
   "cell_type": "code",
   "execution_count": 4,
   "metadata": {},
   "outputs": [
    {
     "name": "stdout",
     "output_type": "stream",
     "text": [
      "Number of agents: 1\n",
      "Number of actions: 4\n",
      "States look like: [1.         0.         0.         0.         0.84408134 0.\n",
      " 0.         1.         0.         0.0748472  0.         1.\n",
      " 0.         0.         0.25755    1.         0.         0.\n",
      " 0.         0.74177343 0.         1.         0.         0.\n",
      " 0.25854847 0.         0.         1.         0.         0.09355672\n",
      " 0.         1.         0.         0.         0.31969345 0.\n",
      " 0.        ]\n",
      "States have length: 37\n"
     ]
    }
   ],
   "source": [
    "# reset the environment\n",
    "env_info = env.reset(train_mode=True)[brain_name]\n",
    "\n",
    "# number of agents in the environment\n",
    "print('Number of agents:', len(env_info.agents))\n",
    "\n",
    "# number of actions\n",
    "action_size = brain.vector_action_space_size\n",
    "print('Number of actions:', action_size)\n",
    "\n",
    "# examine the state space \n",
    "state = env_info.vector_observations[0]\n",
    "print('States look like:', state)\n",
    "state_size = len(state)\n",
    "print('States have length:', state_size)"
   ]
  },
  {
   "cell_type": "markdown",
   "metadata": {},
   "source": [
    "### 3. Take Random Actions in the Environment\n",
    "\n",
    "In the next code cell, you will learn how to use the Python API to control the agent and receive feedback from the environment.\n",
    "\n",
    "Once this cell is executed, you will watch the agent's performance, if it selects an action (uniformly) at random with each time step.  A window should pop up that allows you to observe the agent, as it moves through the environment.  \n",
    "\n",
    "Of course, as part of the project, you'll have to change the code so that the agent is able to use its experience to gradually choose better actions when interacting with the environment!"
   ]
  },
  {
   "cell_type": "code",
   "execution_count": 5,
   "metadata": {},
   "outputs": [
    {
     "name": "stdout",
     "output_type": "stream",
     "text": [
      "Score: 0.0\n"
     ]
    }
   ],
   "source": [
    "env_info = env.reset(train_mode=False)[brain_name] # reset the environment\n",
    "state = env_info.vector_observations[0]            # get the current state\n",
    "score = 0                                          # initialize the score\n",
    "while True:\n",
    "    action = np.random.randint(action_size)        # select an action\n",
    "    env_info = env.step(action)[brain_name]        # send the action to the environment\n",
    "    next_state = env_info.vector_observations[0]   # get the next state\n",
    "    reward = env_info.rewards[0]                   # get the reward\n",
    "    done = env_info.local_done[0]                  # see if episode has finished\n",
    "    score += reward                                # update the score\n",
    "    state = next_state                             # roll over the state to next time step\n",
    "    if done:                                       # exit loop if episode finished\n",
    "        break\n",
    "    \n",
    "print(\"Score: {}\".format(score))"
   ]
  },
  {
   "cell_type": "markdown",
   "metadata": {},
   "source": [
    "### 4. Parameters for DQN Algorithm\n",
    "\n",
    "Parameters predefined for the DQN Vanilla Algorithm"
   ]
  },
  {
   "cell_type": "code",
   "execution_count": 6,
   "metadata": {},
   "outputs": [],
   "source": [
    "rainbow={\n",
    "    \"DDQN\": False,\n",
    "    \"PER\": False,\n",
    "    \"Dueling\": False}\n",
    "\n",
    "n_episodes = 1500\n",
    "max_t = 1000\n",
    "eps_start=1.0\n",
    "eps_end=0.01\n",
    "eps_decay=0.995"
   ]
  },
  {
   "cell_type": "markdown",
   "metadata": {},
   "source": [
    "### 5. DQN Vanilla Algorithm\n",
    "\n",
    "Now it's time to train the agent to solve the environment!\n",
    "It is possible to choose between the basic DQN and some improvements of the same algorithm. The actual implementation is limited to DDQN.\n",
    "\n",
    "When training the environment, set `train_mode=True`, so that the line for resetting the environment looks like the following:\n",
    "```python\n",
    "env_info = env.reset(train_mode=True)[brain_name]\n",
    "```"
   ]
  },
  {
   "cell_type": "code",
   "execution_count": 7,
   "metadata": {},
   "outputs": [
    {
     "name": "stdout",
     "output_type": "stream",
     "text": [
      "Episode 100\tAverage Score: 1.07\n",
      "Episode 200\tAverage Score: 4.67\n",
      "Episode 300\tAverage Score: 7.15\n",
      "Episode 400\tAverage Score: 10.77\n",
      "Episode 500\tAverage Score: 13.26\n",
      "Episode 600\tAverage Score: 14.47\n",
      "Episode 700\tAverage Score: 14.71\n",
      "Episode 800\tAverage Score: 14.85\n",
      "Episode 900\tAverage Score: 15.40\n",
      "Episode 1000\tAverage Score: 15.96\n",
      "Episode 1100\tAverage Score: 16.03\n",
      "Episode 1200\tAverage Score: 16.50\n",
      "Episode 1300\tAverage Score: 16.97\n",
      "Episode 1400\tAverage Score: 15.51\n",
      "Episode 1500\tAverage Score: 15.67\n",
      "\n",
      "Agent learning for 1500 episodes!\tBest Average Score: 17.44\n"
     ]
    }
   ],
   "source": [
    "from dqn_agent import Agent\n",
    "from my_methods import dqn\n",
    "\n",
    "agent = Agent(rainbow, state_size=37, action_size=4, seed=0)\n",
    "\n",
    "scores = dqn(n_episodes, max_t, eps_start, eps_end, eps_decay, env, agent, brain_name)\n"
   ]
  },
  {
   "cell_type": "markdown",
   "metadata": {},
   "source": [
    "### 6. Double DQN Algorithm\n",
    "Here is the training of the agent with the Dual DQN Algorithm.\n"
   ]
  },
  {
   "cell_type": "code",
   "execution_count": 8,
   "metadata": {},
   "outputs": [
    {
     "name": "stdout",
     "output_type": "stream",
     "text": [
      "Episode 100\tAverage Score: 0.56\n",
      "Episode 200\tAverage Score: 3.08\n",
      "Episode 300\tAverage Score: 7.62\n",
      "Episode 400\tAverage Score: 10.71\n",
      "Episode 500\tAverage Score: 12.89\n",
      "Episode 600\tAverage Score: 13.98\n",
      "Episode 700\tAverage Score: 15.72\n",
      "Episode 800\tAverage Score: 15.75\n",
      "Episode 900\tAverage Score: 16.49\n",
      "Episode 1000\tAverage Score: 16.00\n",
      "Episode 1100\tAverage Score: 14.90\n",
      "Episode 1200\tAverage Score: 15.76\n",
      "Episode 1300\tAverage Score: 15.88\n",
      "Episode 1400\tAverage Score: 16.20\n",
      "Episode 1500\tAverage Score: 16.03\n",
      "\n",
      "Agent learning for 1500 episodes!\tBest Average Score: 16.64\n"
     ]
    }
   ],
   "source": [
    "# Learning agent with Double DQ-Learning improvement \n",
    "rainbow[\"DDQN\"] = True\n",
    "\n",
    "agent = Agent(rainbow, state_size=37, action_size=4, seed=0)\n",
    "\n",
    "scores_DDQN = dqn(n_episodes, max_t, eps_start, eps_end, eps_decay, env, agent, brain_name)\n",
    "\n",
    "rainbow[\"DDQN\"] = False"
   ]
  },
  {
   "cell_type": "markdown",
   "metadata": {},
   "source": [
    "### 7. Dueling Networks DQN Algorithm\n",
    "Here is the training of the agent with the Dueling networks variation of the DQN Algorithm."
   ]
  },
  {
   "cell_type": "code",
   "execution_count": 9,
   "metadata": {},
   "outputs": [
    {
     "name": "stdout",
     "output_type": "stream",
     "text": [
      "Episode 100\tAverage Score: 0.88\n",
      "Episode 200\tAverage Score: 4.41\n",
      "Episode 300\tAverage Score: 7.97\n",
      "Episode 400\tAverage Score: 11.65\n",
      "Episode 500\tAverage Score: 13.62\n",
      "Episode 600\tAverage Score: 14.12\n",
      "Episode 700\tAverage Score: 14.33\n",
      "Episode 800\tAverage Score: 14.45\n",
      "Episode 900\tAverage Score: 13.81\n",
      "Episode 1000\tAverage Score: 15.49\n",
      "Episode 1100\tAverage Score: 15.18\n",
      "Episode 1200\tAverage Score: 15.08\n",
      "Episode 1300\tAverage Score: 15.20\n",
      "Episode 1400\tAverage Score: 14.96\n",
      "Episode 1500\tAverage Score: 15.04\n",
      "\n",
      "Agent learning for 1500 episodes!\tBest Average Score: 15.80\n"
     ]
    }
   ],
   "source": [
    "# Learning agent with Dueling DQ-Learning improvement \n",
    "rainbow[\"Dueling\"] = True\n",
    "\n",
    "agent = Agent(rainbow, state_size=37, action_size=4, seed=0)\n",
    "\n",
    "scores_Duel_DQN = dqn(n_episodes, max_t, eps_start, eps_end, eps_decay, env, agent, brain_name)\n",
    "\n",
    "rainbow[\"Dueling\"] = False"
   ]
  },
  {
   "cell_type": "markdown",
   "metadata": {},
   "source": [
    "### 8. Combining Double DQN Algorithm with Dueling Network Architecture\n",
    "Here is the training of the agent with the Dueling networks variation of the DQN Algorithm."
   ]
  },
  {
   "cell_type": "code",
   "execution_count": 10,
   "metadata": {},
   "outputs": [
    {
     "name": "stdout",
     "output_type": "stream",
     "text": [
      "Episode 100\tAverage Score: 0.97\n",
      "Episode 200\tAverage Score: 4.20\n",
      "Episode 300\tAverage Score: 5.79\n",
      "Episode 400\tAverage Score: 10.84\n",
      "Episode 500\tAverage Score: 13.86\n",
      "Episode 600\tAverage Score: 14.58\n",
      "Episode 700\tAverage Score: 15.50\n",
      "Episode 800\tAverage Score: 15.10\n",
      "Episode 900\tAverage Score: 14.58\n",
      "Episode 1000\tAverage Score: 15.19\n",
      "Episode 1100\tAverage Score: 15.31\n",
      "Episode 1200\tAverage Score: 14.87\n",
      "Episode 1300\tAverage Score: 15.82\n",
      "Episode 1400\tAverage Score: 14.81\n",
      "Episode 1500\tAverage Score: 13.84\n",
      "\n",
      "Agent learning for 1500 episodes!\tBest Average Score: 16.18\n"
     ]
    }
   ],
   "source": [
    "# Learning agent with Dueling DQ-Learning improvement\n",
    "rainbow[\"DDQN\"] = True\n",
    "rainbow[\"Dueling\"] = True\n",
    "\n",
    "agent = Agent(rainbow, state_size=37, action_size=4, seed=0)\n",
    "\n",
    "scores_Duel_DDQN = dqn(n_episodes, max_t, eps_start, eps_end, eps_decay, env, agent, brain_name)"
   ]
  },
  {
   "cell_type": "markdown",
   "metadata": {},
   "source": [
    "### 9. Algorithm Comparison\n",
    "The code below collects and trends the learning process along the episodes for the DQN and DDQN solutions.\n",
    "A moving avarage has been used to reduce the noise of the results and make more readable the trends."
   ]
  },
  {
   "cell_type": "code",
   "execution_count": 13,
   "metadata": {},
   "outputs": [
    {
     "data": {
      "image/png": "[encoded data removed]",
      "text/plain": [
       "<Figure size 432x288 with 1 Axes>"
      ]
     },
     "metadata": {
      "needs_background": "light"
     },
     "output_type": "display_data"
    }
   ],
   "source": [
    "import pandas as pd\n",
    "import matplotlib.pyplot as plt\n",
    "%matplotlib inline\n",
    "\n",
    "# Dataframes to calculate the moving avarage on scores\n",
    "df = pd.DataFrame({'score': scores})\n",
    "df2 = pd.DataFrame({'score_DDQN': scores_DDQN})\n",
    "df3 = pd.DataFrame({'score_Duel_DQN': scores_Duel_DQN})\n",
    "df4 = pd.DataFrame({'score_Duel_DDQN': scores_Duel_DDQN})\n",
    "\n",
    "# plot the score moving avarages to reduce the noise\n",
    "fig = plt.figure()\n",
    "ax = fig.add_subplot(111)\n",
    "plt.plot(np.arange(len(scores)), df.rolling(window=100).mean())\n",
    "plt.plot(np.arange(len(scores_DDQN)), df2.rolling(window=100).mean())\n",
    "plt.plot(np.arange(len(scores_Duel_DQN)), df3.rolling(window=100).mean())\n",
    "plt.plot(np.arange(len(scores_Duel_DDQN)), df4.rolling(window=100).mean())\n",
    "\n",
    "plt.ylabel('Score')\n",
    "plt.xlabel('Episode #')\n",
    "#plt.legend((df, df2, df3, df4), ('Vanilla DQN', 'DDQN', 'Dueling','Dueling+DDQN'))\n",
    "plt.show()"
   ]
  },
  {
   "cell_type": "markdown",
   "metadata": {},
   "source": [
    "### 10. Trained Agent\n",
    "Perform of the trained Agent"
   ]
  },
  {
   "cell_type": "code",
   "execution_count": null,
   "metadata": {},
   "outputs": [],
   "source": [
    "import torch\n",
    "\n",
    "env_info = env.reset(train_mode=False)[brain_name] # reset the environment\n",
    "\n",
    "# load the weights from file\n",
    "agent.qnetwork_local.load_state_dict(torch.load('checkpoint.pth'))\n",
    "\n",
    "state = env_info.vector_observations[0]            # get the current state\n",
    "score = 0                                          # initialize the score\n",
    "while True:\n",
    "    action = agent.act(state)\n",
    "    action = action.astype(np.int32)\n",
    "    env_info = env.step(action)[brain_name]        # send the action to the environment\n",
    "    next_state = env_info.vector_observations[0]   # get the next state\n",
    "    reward = env_info.rewards[0]                   # get the reward\n",
    "    done = env_info.local_done[0]                  # see if episode has finished\n",
    "    score += reward                                # update the score\n",
    "    state = next_state                             # roll over the state to next time step\n",
    "    if done:                                       # exit loop if episode finished\n",
    "        break\n",
    "    \n",
    "print(\"Score: {}\".format(score))"
   ]
  },
  {
   "cell_type": "markdown",
   "metadata": {},
   "source": [
    "When finished, you can close the environment."
   ]
  },
  {
   "cell_type": "code",
   "execution_count": null,
   "metadata": {},
   "outputs": [],
   "source": [
    "env.close()"
   ]
  }
 ],
 "metadata": {
  "kernelspec": {
   "display_name": "Python 3",
   "language": "python",
   "name": "python3"
  },
  "language_info": {
   "codemirror_mode": {
    "name": "ipython",
    "version": 3
   },
   "file_extension": ".py",
   "mimetype": "text/x-python",
   "name": "python",
   "nbconvert_exporter": "python",
   "pygments_lexer": "ipython3",
   "version": "3.6.8"
  }
 },
 "nbformat": 4,
 "nbformat_minor": 2
}
